{
 "cells": [
  {
   "cell_type": "markdown",
   "id": "3a920823",
   "metadata": {},
   "source": [
    "# Importing required libraries"
   ]
  },
  {
   "cell_type": "code",
   "execution_count": 1,
   "id": "3b63eea4",
   "metadata": {},
   "outputs": [],
   "source": [
    "from pyspark.sql import SparkSession\n",
    "from pyspark.sql.window import Window\n",
    "from pyspark.sql.functions import *\n",
    "from pyspark.sql.types import DateType, IntegerType, FloatType\n",
    "from pyspark.ml.stat import Correlation\n",
    "from pyspark.sql.functions import col, lag, mean"
   ]
  },
  {
   "cell_type": "markdown",
   "id": "21adcd6d",
   "metadata": {},
   "source": [
    "# The code for class for processing of Stock Data"
   ]
  },
  {
   "cell_type": "code",
   "execution_count": 38,
   "id": "d57530d7",
   "metadata": {},
   "outputs": [],
   "source": [
    "class StocksDataProcessing:\n",
    "    def __init__(self):\n",
    "        self.spark = SparkSession.builder.master(\"local[1]\").appName(\"SparkByExamples.com\").getOrCreate() \n",
    "        self.df = None\n",
    "        \n",
    "    def ReadData(self, file_path, file_type, schema={}):\n",
    "        file_location = file_path\n",
    "        delimiter = ''\n",
    "        if file_type == 1:\n",
    "            file_type='csv'\n",
    "            delimiter=','\n",
    "        else:\n",
    "            file='excel'\n",
    "            delimiter=','\n",
    "        \n",
    "        # CSV options\n",
    "        infer_schema = \"true\"\n",
    "        first_row_is_header = \"true\"\n",
    "        delimiter = \",\"\n",
    "        \n",
    "        # The applied options are for CSV files. For other file types, these will be ignored.\n",
    "        if len(schema)>0:    \n",
    "            self.df = self.spark.read.format(file_type).option(\"header\", first_row_is_header).schema(schema).load(file_location)\n",
    "        else:\n",
    "            self.df = self.spark.read.format(file_type).option(\"inferSchema\", infer_schema).option(\"header\", first_row_is_header).load(file_location)\n",
    "        return self.df\n",
    "    \n",
    "    def show_sample_rows(self,first=True):\n",
    "        if first==True:\n",
    "            self.df.show(n=40)\n",
    "        else:\n",
    "            #data_frame = self.df.toPandas()\n",
    "            tail = self.df.tail(40)\n",
    "            print(tail)\n",
    "    \n",
    "    def NoObservation(self):\n",
    "        return self.df.count()\n",
    "    \n",
    "    def Period(self):\n",
    "        df2 = self.df.select((self.df.Date.cast(DateType())).alias('Date')) \n",
    "        forEntireRangeWindow = Window.orderBy(\"Date\").rowsBetween(Window.currentRow, Window.currentRow)\n",
    "        df2 = df2.dropna()\n",
    "        date_max = df2.agg({\"Date\": \"max\"}).collect()[0][0]\n",
    "        date_min = df2.agg({\"Date\": \"min\"}).collect()[0][0]\n",
    "        return int((date_max-date_min).days/self.NoObservation())\n",
    "    \n",
    "    def DescStats(self):\n",
    "        self.df.describe().show()\n",
    "        \n",
    "    def N_Na_Column(self):\n",
    "        self.df.select([count(when(isnan(c) | col(c).isNull(), c)).alias(c) for c in self.df.columns]).show()\n",
    "    \n",
    "    def MovingAverage(self, view_by=\"week\"):\n",
    "        forMovingAvgWindow=None\n",
    "        if view_by==\"week\":\n",
    "            forMovingAvgWindow = Window.orderBy(\"Date\").rowsBetween(Window.currentRow-3, Window.currentRow+3)\n",
    "        elif view_by==\"month\":\n",
    "            forMovingAvgWindow = Window.orderBy(\"Date\").rowsBetween(Window.currentRow-15, Window.currentRow+14)\n",
    "        elif view_by==\"year\":\n",
    "            forMovingAvgWindow = Window.orderBy(\"Date\").rowsBetween(Window.currentRow-182, Window.currentRow+182)\n",
    "        MovingAvgDF = self.df[['Date', 'Open', 'Close']]\n",
    "        MovingAvgDF = MovingAvgDF.withColumn(\"open_avg\", round(avg('open').over(forMovingAvgWindow), 2))\n",
    "        MovingAvgDF.show()\n",
    "        \n",
    "    def MovingReturn(self, time_period=\"Weekly\"):\n",
    "        df2 = self.df.select((self.df.Open.cast(FloatType())).alias('Open'), (self.df.Date.cast(DateType())).alias('Date')) \n",
    "        forMovingReturnWindow = Window.orderBy(\"Date\")\n",
    "        if time_period=='Week':\n",
    "            MovingReturn_df = df2.withColumn(\"Open_lag\",lag(\"Open\",6).over(forMovingReturnWindow))\n",
    "        elif time_period=='Month':\n",
    "            MovingReturn_df = df2.withColumn(\"Open_lag\",lag(\"Open\",29).over(forMovingReturnWindow))\n",
    "        elif time_period=='Year':\n",
    "            MovingReturn_df = df2.withColumn(\"Open_lag\",lag(\"Open\",364).over(forMovingReturnWindow))        \n",
    "        MovingReturn_df = MovingReturn_df.withColumn(\"Return_df\", MovingReturn_df[\"Open\"]/MovingReturn_df[\"Open_lag\"]-1)\n",
    "        MovingReturn_df.show()\n",
    "        \n",
    "    def PriceChange(self, time_period=\"Weekly\"):\n",
    "        df2 = self.df.select((self.df.Open.cast(FloatType())).alias('Open'), (self.df.Close.cast(FloatType())).alias('Close'), (self.df.Date.cast(DateType())).alias('Date')) \n",
    "        forMovingReturnWindow = Window.orderBy(\"Date\")\n",
    "        if time_period=='Week':\n",
    "            MovingReturn_df = df2.withColumn(\"Open_lag\",lag(\"Open\",6).over(forMovingReturnWindow))\n",
    "        elif time_period=='Month':\n",
    "            MovingReturn_df = df2.withColumn(\"Open_lag\",lag(\"Open\",29).over(forMovingReturnWindow))\n",
    "        elif time_period=='Year':\n",
    "            MovingReturn_df = df2.withColumn(\"Open_lag\",lag(\"Open\",364).over(forMovingReturnWindow))        \n",
    "        MovingReturn_df = MovingReturn_df.withColumn(\"Price_Change\",MovingReturn_df[\"Close\"]-MovingReturn_df[\"Open_lag\"]-1)\n",
    "        MovingReturn_df.show()\n",
    "        \n",
    "    def DailyReturn(self):     \n",
    "        Return_df = self.df.select((self.df.Open.cast(FloatType())).alias('Open'), (self.df.Close.cast(FloatType())).alias('Close'), (self.df.Date.cast(DateType())).alias('Date'))\n",
    "        Return_df = Return_df.withColumn(\"Return_df\", Return_df[\"Close\"]/Return_df[\"Open\"]-1)\n",
    "        Return_df.show()\n",
    "    \n",
    "    def AvgDailyReturn(self):     \n",
    "        Return_df = self.df.select((self.df.Open.cast(FloatType())).alias('Open'), (self.df.Close.cast(FloatType())).alias('Close'), (self.df.Date.cast(DateType())).alias('Date'))\n",
    "        Return_df = Return_df.withColumn(\"Return_df\", Return_df[\"Close\"]/Return_df[\"Open\"]-1)\n",
    "        return Return_df.agg({\"Return_df\": \"mean\"}).collect()[0][0]\n",
    "    \n",
    "    def AvgDailyReturn_Period(self, time_period):\n",
    "        df2 = self.df.select((self.df.Open.cast(FloatType())).alias('Open'), (self.df.Close.cast(FloatType())).alias('Close'), (self.df.Date.cast(DateType())).alias('Date')) \n",
    "        forMovingReturnWindow = Window.orderBy(\"Date\")\n",
    "        Return_df = None\n",
    "        if time_period=='Week':\n",
    "            Return_df = df2.withColumn(\"Open_lag\",lag(\"Open\",6).over(forMovingReturnWindow))\n",
    "        elif time_period=='Month':\n",
    "            Return_df = df2.withColumn(\"Open_lag\",lag(\"Open\",29).over(forMovingReturnWindow))\n",
    "        elif time_period=='Year':\n",
    "            Return_df = df2.withColumn(\"Open_lag\",lag(\"Open\",364).over(forMovingReturnWindow))        \n",
    "        Return_df = Return_df.withColumn(\"Return_df\", Return_df[\"Close\"]/Return_df[\"Open_lag\"]-1)\n",
    "        return Return_df.agg({\"Return_df\": \"mean\"}).collect()[0][0]\n",
    "    \n",
    "    def Correlation(self, Stock1):\n",
    "        Stock1 = Stock1.select((Stock1.Open.cast(FloatType())).alias('Open_1'), (Stock1.Date.cast(DateType())).alias('Date')) \n",
    "        Stock2 = self.df.select((self.df.Open.cast(FloatType())).alias('Open_2'), (self.df.Date.cast(DateType())).alias('Date')) \n",
    "        Stock = Stock1.join(Stock2,Stock1.Date ==  Stock2.Date,\"inner\")\n",
    "        return Stock.corr('Open_1', 'Open_2')\n",
    "    \n",
    "    def Show_Trend(self):\n",
    "        from matplotlib import pyplot as plt\n",
    "        Stock = self.df.select((self.df.Open.cast(FloatType())).alias('Open'), (self.df.Date.cast(DateType())).alias('Date')) \n",
    "        Stock = Stock.toPandas()\n",
    "        plt.plot(Stock['Date'], Stock['Open'])\n",
    "        plt.show()"
   ]
  },
  {
   "cell_type": "markdown",
   "id": "3400d96b",
   "metadata": {},
   "source": [
    "# The Example for using each of the functions"
   ]
  },
  {
   "cell_type": "markdown",
   "id": "fc30181e",
   "metadata": {},
   "source": [
    "## Reading the data"
   ]
  },
  {
   "cell_type": "code",
   "execution_count": 32,
   "id": "da9b206b",
   "metadata": {},
   "outputs": [
    {
     "data": {
      "text/plain": [
       "DataFrame[Date: string, High: double, Low: double, Open: double, Close: double, Volume: int, Adj Close: double, company_name: string]"
      ]
     },
     "execution_count": 32,
     "metadata": {},
     "output_type": "execute_result"
    }
   ],
   "source": [
    "stocks = StocksDataProcessing()\n",
    "stocks.ReadData(\"D:\\\\fiverr\\\\spark, pyspark, mapreduce, hadoop, azure and hive\\\\guidifleh\\\\drive-download-20240227T130606Z-001\\\\AMAZON.csv\", 1, {})"
   ]
  },
  {
   "cell_type": "markdown",
   "id": "dde3f2c6",
   "metadata": {},
   "source": [
    "## Showing sample rows"
   ]
  },
  {
   "cell_type": "code",
   "execution_count": 4,
   "id": "a4abd22c",
   "metadata": {},
   "outputs": [
    {
     "name": "stdout",
     "output_type": "stream",
     "text": [
      "[Row(Date='2020-10-07', High=3200.0, Low=3132.389892578125, Open=3135.0, Close=3195.68994140625, Volume=4309400, Adj Close=3195.68994140625, company_name='AMAZON'), Row(Date='2020-10-08', High=3233.2900390625, Low=3174.989990234375, Open=3224.989990234375, Close=3190.550048828125, Volume=3174100, Adj Close=3190.550048828125, company_name='AMAZON'), Row(Date='2020-10-09', High=3288.989990234375, Low=3197.830078125, Open=3210.0, Close=3286.64990234375, Volume=4907900, Adj Close=3286.64990234375, company_name='AMAZON'), Row(Date='2020-10-12', High=3496.239990234375, Low=3339.550048828125, Open=3349.93994140625, Close=3442.929931640625, Volume=8364200, Adj Close=3442.929931640625, company_name='AMAZON'), Row(Date='2020-10-13', High=3492.3798828125, Low=3424.219970703125, Open=3467.989990234375, Close=3443.6298828125, Volume=5744700, Adj Close=3443.6298828125, company_name='AMAZON'), Row(Date='2020-10-14', High=3464.8798828125, Low=3340.0, Open=3447.0, Close=3363.7099609375, Volume=5828900, Adj Close=3363.7099609375, company_name='AMAZON'), Row(Date='2020-10-15', High=3355.8798828125, Low=3280.0, Open=3292.010009765625, Close=3338.64990234375, Volume=5223400, Adj Close=3338.64990234375, company_name='AMAZON'), Row(Date='2020-10-16', High=3399.659912109375, Low=3160.0, Open=3363.22998046875, Close=3272.7099609375, Volume=6474400, Adj Close=3272.7099609375, company_name='AMAZON'), Row(Date='2020-10-19', High=3329.0, Low=3192.739990234375, Open=3299.610107421875, Close=3207.2099609375, Volume=5223600, Adj Close=3207.2099609375, company_name='AMAZON'), Row(Date='2020-10-20', High=3266.0, Low=3192.010009765625, Open=3222.280029296875, Close=3217.010009765625, Volume=4509700, Adj Close=3217.010009765625, company_name='AMAZON'), Row(Date='2020-10-21', High=3233.8798828125, Low=3160.0, Open=3212.5, Close=3184.93994140625, Volume=4592700, Adj Close=3184.93994140625, company_name='AMAZON'), Row(Date='2020-10-22', High=3198.75, Low=3121.93994140625, Open=3189.8701171875, Close=3176.39990234375, Volume=4212000, Adj Close=3176.39990234375, company_name='AMAZON'), Row(Date='2020-10-23', High=3205.330078125, Low=3140.0, Open=3191.0, Close=3204.39990234375, Volume=3466700, Adj Close=3204.39990234375, company_name='AMAZON'), Row(Date='2020-10-26', High=3282.97998046875, Low=3153.300048828125, Open=3198.739990234375, Close=3207.0400390625, Volume=5901200, Adj Close=3207.0400390625, company_name='AMAZON'), Row(Date='2020-10-27', High=3291.659912109375, Low=3211.300048828125, Open=3224.93994140625, Close=3286.330078125, Volume=4291000, Adj Close=3286.330078125, company_name='AMAZON'), Row(Date='2020-10-28', High=3264.02001953125, Low=3162.469970703125, Open=3249.300048828125, Close=3162.780029296875, Volume=5588300, Adj Close=3162.780029296875, company_name='AMAZON'), Row(Date='2020-10-29', High=3257.25, Low=3164.0, Open=3201.27001953125, Close=3211.010009765625, Volume=6596500, Adj Close=3211.010009765625, company_name='AMAZON'), Row(Date='2020-10-30', High=3167.0, Low=3019.0, Open=3157.75, Close=3036.14990234375, Volume=8386400, Adj Close=3036.14990234375, company_name='AMAZON'), Row(Date='2020-11-02', High=3079.7099609375, Low=2950.1201171875, Open=3061.739990234375, Close=3004.47998046875, Volume=7257400, Adj Close=3004.47998046875, company_name='AMAZON'), Row(Date='2020-11-03', High=3074.89990234375, Low=2980.97998046875, Open=3018.530029296875, Close=3048.409912109375, Volume=4897900, Adj Close=3048.409912109375, company_name='AMAZON'), Row(Date='2020-11-04', High=3244.85009765625, Low=3139.72998046875, Open=3159.989990234375, Close=3241.159912109375, Volume=6839000, Adj Close=3241.159912109375, company_name='AMAZON'), Row(Date='2020-11-05', High=3366.800048828125, Low=3288.8798828125, Open=3319.969970703125, Close=3322.0, Volume=5789300, Adj Close=3322.0, company_name='AMAZON'), Row(Date='2020-11-06', High=3322.0, Low=3232.0, Open=3304.639892578125, Close=3311.3701171875, Volume=4647300, Adj Close=3311.3701171875, company_name='AMAZON'), Row(Date='2020-11-09', High=3289.0, Low=3112.110107421875, Open=3231.030029296875, Close=3143.739990234375, Volume=7190400, Adj Close=3143.739990234375, company_name='AMAZON'), Row(Date='2020-11-10', High=3114.0, Low=3019.47998046875, Open=3095.02001953125, Close=3035.02001953125, Volume=6591000, Adj Close=3035.02001953125, company_name='AMAZON'), Row(Date='2020-11-11', High=3139.14990234375, Low=3050.0, Open=3061.780029296875, Close=3137.389892578125, Volume=4366900, Adj Close=3137.389892578125, company_name='AMAZON'), Row(Date='2020-11-12', High=3175.8798828125, Low=3086.050048828125, Open=3159.949951171875, Close=3110.280029296875, Volume=4362000, Adj Close=3110.280029296875, company_name='AMAZON'), Row(Date='2020-11-13', High=3141.719970703125, Low=3085.389892578125, Open=3122.0, Close=3128.81005859375, Volume=3756200, Adj Close=3128.81005859375, company_name='AMAZON'), Row(Date='2020-11-16', High=3142.699951171875, Low=3072.68994140625, Open=3093.199951171875, Close=3131.06005859375, Volume=3808700, Adj Close=3131.06005859375, company_name='AMAZON'), Row(Date='2020-11-17', High=3189.25, Low=3135.260009765625, Open=3183.5400390625, Close=3135.659912109375, Volume=3444700, Adj Close=3135.659912109375, company_name='AMAZON'), Row(Date='2020-11-18', High=3140.0, Low=3105.10009765625, Open=3134.0, Close=3105.4599609375, Volume=2916800, Adj Close=3105.4599609375, company_name='AMAZON'), Row(Date='2020-11-19', High=3125.0, Low=3080.919921875, Open=3105.31005859375, Close=3117.02001953125, Volume=3010300, Adj Close=3117.02001953125, company_name='AMAZON'), Row(Date='2020-11-20', High=3132.889892578125, Low=3098.050048828125, Open=3117.02001953125, Close=3099.39990234375, Volume=3374400, Adj Close=3099.39990234375, company_name='AMAZON'), Row(Date='2020-11-23', High=3139.75, Low=3065.4599609375, Open=3116.699951171875, Close=3098.389892578125, Volume=4708900, Adj Close=3098.389892578125, company_name='AMAZON'), Row(Date='2020-11-24', High=3134.25, Low=3086.260009765625, Open=3100.5, Close=3118.06005859375, Volume=3602100, Adj Close=3118.06005859375, company_name='AMAZON'), Row(Date='2020-11-25', High=3198.0, Low=3140.260009765625, Open=3141.8701171875, Close=3185.070068359375, Volume=3790400, Adj Close=3185.070068359375, company_name='AMAZON'), Row(Date='2020-11-27', High=3216.18994140625, Low=3190.050048828125, Open=3211.260009765625, Close=3195.340087890625, Volume=2392900, Adj Close=3195.340087890625, company_name='AMAZON'), Row(Date='2020-11-30', High=3228.389892578125, Low=3125.550048828125, Open=3208.47998046875, Close=3168.0400390625, Volume=4063900, Adj Close=3168.0400390625, company_name='AMAZON'), Row(Date='2020-12-01', High=3248.949951171875, Low=3157.179931640625, Open=3188.5, Close=3220.080078125, Volume=4537000, Adj Close=3220.080078125, company_name='AMAZON'), Row(Date='2020-12-02', High=3223.760009765625, Low=3173.260009765625, Open=3221.64990234375, Close=3213.4384765625, Volume=1119593, Adj Close=3213.4384765625, company_name='AMAZON')]\n"
     ]
    }
   ],
   "source": [
    "stocks.show_sample_rows(first=False)"
   ]
  },
  {
   "cell_type": "markdown",
   "id": "a9fa4ba2",
   "metadata": {},
   "source": [
    "## Will show count of how many records are present in the dataset"
   ]
  },
  {
   "cell_type": "code",
   "execution_count": 5,
   "id": "54ac92da",
   "metadata": {},
   "outputs": [
    {
     "data": {
      "text/plain": [
       "987"
      ]
     },
     "execution_count": 5,
     "metadata": {},
     "output_type": "execute_result"
    }
   ],
   "source": [
    "stocks.NoObservation()"
   ]
  },
  {
   "cell_type": "markdown",
   "id": "4c7f399c",
   "metadata": {},
   "source": [
    "## Will show the period over which the record seprated"
   ]
  },
  {
   "cell_type": "code",
   "execution_count": 6,
   "id": "f6adefd7",
   "metadata": {},
   "outputs": [
    {
     "data": {
      "text/plain": [
       "1"
      ]
     },
     "execution_count": 6,
     "metadata": {},
     "output_type": "execute_result"
    }
   ],
   "source": [
    "stocks.Period()"
   ]
  },
  {
   "cell_type": "markdown",
   "id": "3a0f65bb",
   "metadata": {},
   "source": [
    "## It will describe the data"
   ]
  },
  {
   "cell_type": "code",
   "execution_count": 7,
   "id": "56398252",
   "metadata": {},
   "outputs": [
    {
     "name": "stdout",
     "output_type": "stream",
     "text": [
      "+-------+----------+------------------+------------------+-----------------+------------------+-----------------+------------------+------------+\n",
      "|summary|      Date|              High|               Low|             Open|             Close|           Volume|         Adj Close|company_name|\n",
      "+-------+----------+------------------+------------------+-----------------+------------------+-----------------+------------------+------------+\n",
      "|  count|       987|               987|               987|              987|               987|              987|               987|         987|\n",
      "|   mean|      null|1762.0071216958152|1722.1011452099956|1743.433881363487|1742.9566644206718| 4509728.05775076|1742.9566644206718|        null|\n",
      "| stddev|      null| 667.2385315752688| 644.7988093382758|657.1153070927137| 655.9576061129322|2179817.628631287| 655.9576061129322|        null|\n",
      "|    min|2017-01-03|  758.760009765625| 747.7000122070312|757.9199829101562| 753.6699829101562|           881300| 753.6699829101562|      AMAZON|\n",
      "|    max|2020-12-02|           3552.25|  3486.68994140625|           3547.0| 3531.449951171875|         16565000| 3531.449951171875|      AMAZON|\n",
      "+-------+----------+------------------+------------------+-----------------+------------------+-----------------+------------------+------------+\n",
      "\n"
     ]
    }
   ],
   "source": [
    "stocks.DescStats()"
   ]
  },
  {
   "cell_type": "markdown",
   "id": "620699f0",
   "metadata": {},
   "source": [
    "## Find the number of NA values in each column"
   ]
  },
  {
   "cell_type": "code",
   "execution_count": 8,
   "id": "74b99c99",
   "metadata": {},
   "outputs": [
    {
     "name": "stdout",
     "output_type": "stream",
     "text": [
      "+----+----+---+----+-----+------+---------+------------+\n",
      "|Date|High|Low|Open|Close|Volume|Adj Close|company_name|\n",
      "+----+----+---+----+-----+------+---------+------------+\n",
      "|   0|   0|  0|   0|    0|     0|        0|           0|\n",
      "+----+----+---+----+-----+------+---------+------------+\n",
      "\n"
     ]
    }
   ],
   "source": [
    "stocks.N_Na_Column()"
   ]
  },
  {
   "cell_type": "markdown",
   "id": "b0f5fc08",
   "metadata": {},
   "source": [
    "## Find the Moving Average based on the time period"
   ]
  },
  {
   "cell_type": "code",
   "execution_count": 9,
   "id": "063f1203",
   "metadata": {},
   "outputs": [
    {
     "name": "stdout",
     "output_type": "stream",
     "text": [
      "+----------+-----------------+-----------------+--------+\n",
      "|      Date|             Open|            Close|open_avg|\n",
      "+----------+-----------------+-----------------+--------+\n",
      "|2017-01-03|757.9199829101562|753.6699829101562|  923.44|\n",
      "|2017-01-04|758.3900146484375|757.1799926757812|  923.58|\n",
      "|2017-01-05|761.5499877929688|780.4500122070312|   923.7|\n",
      "|2017-01-06|782.3599853515625| 795.989990234375|  923.83|\n",
      "|2017-01-09|            798.0|796.9199829101562|  923.98|\n",
      "|2017-01-10|796.5999755859375|795.9000244140625|  924.17|\n",
      "|2017-01-11|793.6599731445312|  799.02001953125|  924.38|\n",
      "|2017-01-12|800.3099975585938|813.6400146484375|  924.56|\n",
      "|2017-01-13|814.3200073242188|817.1400146484375|  924.71|\n",
      "|2017-01-17|815.7000122070312| 809.719970703125|  924.95|\n",
      "|2017-01-18|            809.5|  807.47998046875|  925.21|\n",
      "|2017-01-19|            810.0|809.0399780273438|  925.56|\n",
      "|2017-01-20| 815.280029296875|808.3300170898438|  925.93|\n",
      "|2017-01-23|806.7999877929688|817.8800048828125|  926.26|\n",
      "|2017-01-24|            822.0|822.4400024414062|  926.62|\n",
      "|2017-01-25|825.7899780273438|  836.52001953125|  927.03|\n",
      "|2017-01-26| 835.530029296875|839.1500244140625|  927.43|\n",
      "|2017-01-27|            839.0|  835.77001953125|  927.83|\n",
      "|2017-01-30|            833.0|830.3800048828125|  928.23|\n",
      "|2017-01-31|           823.75|  823.47998046875|  928.54|\n",
      "+----------+-----------------+-----------------+--------+\n",
      "only showing top 20 rows\n",
      "\n"
     ]
    }
   ],
   "source": [
    "stocks.MovingAverage(\"year\")"
   ]
  },
  {
   "cell_type": "markdown",
   "id": "5a155c04",
   "metadata": {},
   "source": [
    "## Find the Moving Return based on the time period"
   ]
  },
  {
   "cell_type": "code",
   "execution_count": 10,
   "id": "da34042c",
   "metadata": {},
   "outputs": [
    {
     "name": "stdout",
     "output_type": "stream",
     "text": [
      "+------+----------+--------+---------+\n",
      "|  Open|      Date|Open_lag|Return_df|\n",
      "+------+----------+--------+---------+\n",
      "|757.92|2017-01-03|    null|     null|\n",
      "|758.39|2017-01-04|    null|     null|\n",
      "|761.55|2017-01-05|    null|     null|\n",
      "|782.36|2017-01-06|    null|     null|\n",
      "| 798.0|2017-01-09|    null|     null|\n",
      "| 796.6|2017-01-10|    null|     null|\n",
      "|793.66|2017-01-11|    null|     null|\n",
      "|800.31|2017-01-12|    null|     null|\n",
      "|814.32|2017-01-13|    null|     null|\n",
      "| 815.7|2017-01-17|    null|     null|\n",
      "| 809.5|2017-01-18|    null|     null|\n",
      "| 810.0|2017-01-19|    null|     null|\n",
      "|815.28|2017-01-20|    null|     null|\n",
      "| 806.8|2017-01-23|    null|     null|\n",
      "| 822.0|2017-01-24|    null|     null|\n",
      "|825.79|2017-01-25|    null|     null|\n",
      "|835.53|2017-01-26|    null|     null|\n",
      "| 839.0|2017-01-27|    null|     null|\n",
      "| 833.0|2017-01-30|    null|     null|\n",
      "|823.75|2017-01-31|    null|     null|\n",
      "+------+----------+--------+---------+\n",
      "only showing top 20 rows\n",
      "\n"
     ]
    }
   ],
   "source": [
    "stocks.MovingReturn(\"Month\")"
   ]
  },
  {
   "cell_type": "markdown",
   "id": "816b69f8",
   "metadata": {},
   "source": [
    "## The amount of Price Change over the Period"
   ]
  },
  {
   "cell_type": "code",
   "execution_count": 33,
   "id": "52f8a080",
   "metadata": {},
   "outputs": [
    {
     "name": "stdout",
     "output_type": "stream",
     "text": [
      "+------+------+----------+--------+------------+\n",
      "|  Open| Close|      Date|Open_lag|Price_Change|\n",
      "+------+------+----------+--------+------------+\n",
      "|757.92|753.67|2017-01-03|    null|        null|\n",
      "|758.39|757.18|2017-01-04|    null|        null|\n",
      "|761.55|780.45|2017-01-05|    null|        null|\n",
      "|782.36|795.99|2017-01-06|    null|        null|\n",
      "| 798.0|796.92|2017-01-09|    null|        null|\n",
      "| 796.6| 795.9|2017-01-10|    null|        null|\n",
      "|793.66|799.02|2017-01-11|  757.92|   40.100037|\n",
      "|800.31|813.64|2017-01-12|  758.39|       54.25|\n",
      "|814.32|817.14|2017-01-13|  761.55|   54.590027|\n",
      "| 815.7|809.72|2017-01-17|  782.36|   26.359985|\n",
      "| 809.5|807.48|2017-01-18|   798.0|     8.47998|\n",
      "| 810.0|809.04|2017-01-19|   796.6|   11.440002|\n",
      "|815.28|808.33|2017-01-20|  793.66|   13.670044|\n",
      "| 806.8|817.88|2017-01-23|  800.31|   16.570007|\n",
      "| 822.0|822.44|2017-01-24|  814.32|    7.119995|\n",
      "|825.79|836.52|2017-01-25|   815.7|   19.820007|\n",
      "|835.53|839.15|2017-01-26|   809.5|   28.650024|\n",
      "| 839.0|835.77|2017-01-27|   810.0|    24.77002|\n",
      "| 833.0|830.38|2017-01-30|  815.28|   14.099976|\n",
      "|823.75|823.48|2017-01-31|   806.8|   15.679993|\n",
      "+------+------+----------+--------+------------+\n",
      "only showing top 20 rows\n",
      "\n"
     ]
    }
   ],
   "source": [
    "stocks.PriceChange(\"Week\")"
   ]
  },
  {
   "cell_type": "markdown",
   "id": "92a4b1d8",
   "metadata": {},
   "source": [
    "## Finding the daily return on stock prices"
   ]
  },
  {
   "cell_type": "code",
   "execution_count": 34,
   "id": "83625aea",
   "metadata": {},
   "outputs": [
    {
     "name": "stdout",
     "output_type": "stream",
     "text": [
      "+------+------+----------+--------------------+\n",
      "|  Open| Close|      Date|           Return_df|\n",
      "+------+------+----------+--------------------+\n",
      "|757.92|753.67|2017-01-03|-0.00560745210026...|\n",
      "|758.39|757.18|2017-01-04|-0.00159551411448...|\n",
      "|761.55|780.45|2017-01-05|0.024817838247015445|\n",
      "|782.36|795.99|2017-01-06|0.017421653890807853|\n",
      "| 798.0|796.92|2017-01-09|-0.00135340487449...|\n",
      "| 796.6| 795.9|2017-01-10|-8.78673353410741...|\n",
      "|793.66|799.02|2017-01-11|0.006753580334260656|\n",
      "|800.31|813.64|2017-01-12|0.016656067187099888|\n",
      "|814.32|817.14|2017-01-13|0.003463021046830...|\n",
      "| 815.7|809.72|2017-01-17|-0.00733117741132...|\n",
      "| 809.5|807.48|2017-01-18|-0.00249539163835...|\n",
      "| 810.0|809.04|2017-01-19|-0.00118521231192...|\n",
      "|815.28|808.33|2017-01-20|-0.00852469330448...|\n",
      "| 806.8|817.88|2017-01-23|0.013733288618599904|\n",
      "| 822.0|822.44|2017-01-24|5.352827754334655E-4|\n",
      "|825.79|836.52|2017-01-25|0.012993668837611994|\n",
      "|835.53|839.15|2017-01-26|0.004332573325023237|\n",
      "| 839.0|835.77|2017-01-27|-0.00384979793653...|\n",
      "| 833.0|830.38|2017-01-30|-0.00314525224152...|\n",
      "|823.75|823.48|2017-01-31|-3.27793057663172...|\n",
      "+------+------+----------+--------------------+\n",
      "only showing top 20 rows\n",
      "\n"
     ]
    }
   ],
   "source": [
    "stocks.DailyReturn()"
   ]
  },
  {
   "cell_type": "markdown",
   "id": "4f59ccdb",
   "metadata": {},
   "source": [
    "## Finding the Average Daily Return"
   ]
  },
  {
   "cell_type": "code",
   "execution_count": 13,
   "id": "e3bb6625",
   "metadata": {},
   "outputs": [
    {
     "data": {
      "text/plain": [
       "-1.0800911800355012e-05"
      ]
     },
     "execution_count": 13,
     "metadata": {},
     "output_type": "execute_result"
    }
   ],
   "source": [
    "stocks.AvgDailyReturn()"
   ]
  },
  {
   "cell_type": "markdown",
   "id": "85d373d0",
   "metadata": {},
   "source": [
    "## Finding the Average Return over a period"
   ]
  },
  {
   "cell_type": "code",
   "execution_count": 14,
   "id": "d3b94ca0",
   "metadata": {},
   "outputs": [
    {
     "data": {
      "text/plain": [
       "0.5724374583790346"
      ]
     },
     "execution_count": 14,
     "metadata": {},
     "output_type": "execute_result"
    }
   ],
   "source": [
    "stocks.AvgDailyReturn_Period('Year')"
   ]
  },
  {
   "cell_type": "markdown",
   "id": "5db4f968",
   "metadata": {},
   "source": [
    "## Shows the trend line of stock prices over the time horizon"
   ]
  },
  {
   "cell_type": "code",
   "execution_count": 15,
   "id": "b28273ab",
   "metadata": {},
   "outputs": [
    {
     "data": {
      "image/png": "[encoded data removed]",
      "text/plain": [
       "<Figure size 640x480 with 1 Axes>"
      ]
     },
     "metadata": {},
     "output_type": "display_data"
    }
   ],
   "source": [
    "stocks.Show_Trend()"
   ]
  },
  {
   "cell_type": "markdown",
   "id": "c83036c1",
   "metadata": {},
   "source": [
    "## Finding the correlation between prices of two different stocks"
   ]
  },
  {
   "cell_type": "code",
   "execution_count": 40,
   "id": "a867a858",
   "metadata": {},
   "outputs": [
    {
     "data": {
      "text/plain": [
       "0.929432373427345"
      ]
     },
     "execution_count": 40,
     "metadata": {},
     "output_type": "execute_result"
    }
   ],
   "source": [
    "APPLE = StocksDataProcessing()\n",
    "APPLE.ReadData(\"APPLE.csv\", 1, {})\n",
    "APPLE.Correlation(stocks.ReadData(\"AMAZON.csv\", 1, {}))"
   ]
  }
 ],
 "metadata": {
  "kernelspec": {
   "display_name": "Python 3 (ipykernel)",
   "language": "python",
   "name": "python3"
  },
  "language_info": {
   "codemirror_mode": {
    "name": "ipython",
    "version": 3
   },
   "file_extension": ".py",
   "mimetype": "text/x-python",
   "name": "python",
   "nbconvert_exporter": "python",
   "pygments_lexer": "ipython3",
   "version": "3.8.18"
  }
 },
 "nbformat": 4,
 "nbformat_minor": 5
}
