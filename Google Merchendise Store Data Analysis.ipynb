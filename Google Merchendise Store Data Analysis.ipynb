{
 "cells": [
  {
   "cell_type": "code",
   "execution_count": 1,
   "id": "448f9fbf-d81e-423d-893b-b28e8e79c7eb",
   "metadata": {},
   "outputs": [],
   "source": [
    "from pyspark.sql import SparkSession\n",
    "from pyspark.sql.functions import year, month, min, max, col, desc, split\n",
    "\n",
    "spark = SparkSession.builder.appName('Read CSV File into DataFrame').getOrCreate()"
   ]
  },
  {
   "cell_type": "markdown",
   "id": "563de7de-c820-4810-b7f1-b5a3a869c670",
   "metadata": {},
   "source": [
    "# Part 1"
   ]
  },
  {
   "cell_type": "markdown",
   "id": "70682ab8-cebd-4d35-aedb-768cb2853c7f",
   "metadata": {},
   "source": [
    "## How Many Google items were purchased in November 2020?"
   ]
  },
  {
   "cell_type": "code",
   "execution_count": 2,
   "id": "48c41c7f-721a-4689-af5a-8491cc4e407f",
   "metadata": {},
   "outputs": [
    {
     "name": "stdout",
     "output_type": "stream",
     "text": [
      "+-------+-------------+-------+-------+-----------+-------+-------------------+\n",
      "|user_id|ga_session_id|country| device|       type|item_id|               date|\n",
      "+-------+-------------+-------+-------+-----------+-------+-------------------+\n",
      "|   2133|        16909|     US| mobile|   purchase|     94|2020-11-01 00:27:14|\n",
      "|   2133|        16909|     US| mobile|   purchase|    425|2020-11-01 00:27:14|\n",
      "|   5789|        16908|     SE|desktop|   purchase|      1|2020-11-01 01:44:44|\n",
      "|   5789|        16908|     SE|desktop|   purchase|     62|2020-11-01 01:44:44|\n",
      "|   5808|         4267|     US| mobile|add_to_cart|    842|2020-11-01 03:06:29|\n",
      "|   5808|         4267|     US| mobile|add_to_cart|    951|2020-11-01 03:06:29|\n",
      "|   5808|         4267|     US| mobile|add_to_cart|    950|2020-11-01 03:06:29|\n",
      "|   5808|         4267|     US| mobile|add_to_cart|   1068|2020-11-01 03:06:29|\n",
      "|   5808|         4267|     US| mobile|add_to_cart|    862|2020-11-01 03:06:29|\n",
      "|   5808|         4267|     US| mobile|add_to_cart|   1119|2020-11-01 03:06:29|\n",
      "|   5808|         4267|     US| mobile|add_to_cart|    252|2020-11-01 03:06:29|\n",
      "|   5808|         4267|     US| mobile|add_to_cart|   1085|2020-11-01 03:06:29|\n",
      "|   5808|         4267|     US| mobile|add_to_cart|   1074|2020-11-01 03:06:29|\n",
      "|   5808|         4267|     US| mobile|add_to_cart|   1045|2020-11-01 03:06:29|\n",
      "|   5808|         4267|     US| mobile|add_to_cart|    953|2020-11-01 03:06:29|\n",
      "|   5808|         4267|     US| mobile|add_to_cart|   1058|2020-11-01 03:06:29|\n",
      "|   5808|         4267|     US| mobile|add_to_cart|    862|2020-11-01 03:09:47|\n",
      "|   5808|         4267|     US| mobile|add_to_cart|   1119|2020-11-01 03:09:47|\n",
      "|   5808|         4267|     US| mobile|add_to_cart|   1044|2020-11-01 03:09:47|\n",
      "|   5808|         4267|     US| mobile|add_to_cart|    950|2020-11-01 03:09:47|\n",
      "+-------+-------------+-------+-------+-----------+-------+-------------------+\n",
      "only showing top 20 rows\n",
      "\n"
     ]
    }
   ],
   "source": [
    "events = spark.read.csv('events1.csv', sep=',', inferSchema=True, header=True)\n",
    "events.show()"
   ]
  },
  {
   "cell_type": "code",
   "execution_count": 3,
   "id": "be89289a-ee1c-4df0-9cb2-6295db053ae7",
   "metadata": {},
   "outputs": [
    {
     "data": {
      "text/plain": [
       "6190"
      ]
     },
     "execution_count": 3,
     "metadata": {},
     "output_type": "execute_result"
    }
   ],
   "source": [
    "purchase_events = events.filter((events.type == \"purchase\") & (month(events.date) == 11) & (year(events.date) == 2020))\n",
    "purchase_events.count()"
   ]
  },
  {
   "cell_type": "markdown",
   "id": "202fd766-aa9b-437d-b030-7a178dbe6ae5",
   "metadata": {},
   "source": [
    "##  How many mobile devices were purchased in December?"
   ]
  },
  {
   "cell_type": "code",
   "execution_count": 4,
   "id": "7a69e33e-a461-4783-a13f-481197c9bde9",
   "metadata": {},
   "outputs": [
    {
     "data": {
      "text/plain": [
       "2625"
      ]
     },
     "execution_count": 4,
     "metadata": {},
     "output_type": "execute_result"
    }
   ],
   "source": [
    "mobile_purchase_events = events.filter((events.type == \"purchase\") & (month(events.date) == 12) & (events.device == \"mobile\"))\n",
    "mobile_purchase_events.count()"
   ]
  },
  {
   "cell_type": "markdown",
   "id": "8337f763-0c6c-419c-8f12-e3dd4aa32814",
   "metadata": {},
   "source": [
    "## Sort the countries based on their sold items in descending order?"
   ]
  },
  {
   "cell_type": "code",
   "execution_count": 5,
   "id": "cb36a073-dd25-4cff-b8ce-6adc9f5487b0",
   "metadata": {},
   "outputs": [
    {
     "name": "stdout",
     "output_type": "stream",
     "text": [
      "+-------+-----+\n",
      "|country|count|\n",
      "+-------+-----+\n",
      "|     US| 6849|\n",
      "|     IN| 1462|\n",
      "|     CA| 1361|\n",
      "|     GB|  457|\n",
      "|     ES|  384|\n",
      "|     FR|  344|\n",
      "|     CN|  279|\n",
      "|     DE|  250|\n",
      "|     TR|  239|\n",
      "|     TW|  231|\n",
      "|     JP|  229|\n",
      "|     BR|  191|\n",
      "|     SG|  178|\n",
      "|     NL|  172|\n",
      "|     IT|  159|\n",
      "|     AU|  148|\n",
      "|     KR|  143|\n",
      "|     MY|  120|\n",
      "|     MX|  116|\n",
      "|     PL|  111|\n",
      "+-------+-----+\n",
      "only showing top 20 rows\n",
      "\n"
     ]
    }
   ],
   "source": [
    "all_purchase_event = events.filter((events.type == \"purchase\"))\n",
    "purchase_countries = all_purchase_event.select(\"country\")\n",
    "country_purchase_count = purchase_countries.groupBy(\"country\").count().sort(desc(\"count\"))\n",
    "country_purchase_count.show()"
   ]
  },
  {
   "cell_type": "markdown",
   "id": "b135c871-bab2-4b74-8c9a-3713e0257d26",
   "metadata": {},
   "source": [
    "## What are the price range for US devices being purchased? "
   ]
  },
  {
   "cell_type": "code",
   "execution_count": 6,
   "id": "b18c9b0e-cb82-4dda-a654-ffd11f9dbde4",
   "metadata": {},
   "outputs": [
    {
     "name": "stdout",
     "output_type": "stream",
     "text": [
      "+---------+---------+\n",
      "|min_price|max_price|\n",
      "+---------+---------+\n",
      "|        1|      120|\n",
      "+---------+---------+\n",
      "\n"
     ]
    }
   ],
   "source": [
    "us_purchase_events = events.filter((events.type == \"purchase\") & (events.country == \"US\"))\n",
    "items = spark.read.csv('items.csv', sep=',', inferSchema=True, header=True)\n",
    "result = us_purchase_events.join(items, us_purchase_events.item_id == items.id, \"inner\")\n",
    "purchase_prices = result.select(\"country\",\"price_in_usd\")\n",
    "us_price_range = purchase_prices.select(min(purchase_prices.price_in_usd).alias(\"min_price\"), max(purchase_prices.price_in_usd).alias(\"max_price\"))\n",
    "us_price_range.show()"
   ]
  },
  {
   "cell_type": "markdown",
   "id": "398fe449-25cc-4aab-b259-be02fb633d47",
   "metadata": {},
   "source": [
    "## Which country has the highest income from sold devices?"
   ]
  },
  {
   "cell_type": "code",
   "execution_count": 7,
   "id": "10322b09-8f5a-4612-823d-a98fe3009c65",
   "metadata": {},
   "outputs": [
    {
     "name": "stdout",
     "output_type": "stream",
     "text": [
      "+-------+-------------------+\n",
      "|country|country_total_sales|\n",
      "+-------+-------------------+\n",
      "|     US|             137409|\n",
      "+-------+-------------------+\n",
      "\n"
     ]
    }
   ],
   "source": [
    "result = all_purchase_event.join(items, all_purchase_event.item_id == items.id, \"inner\")\n",
    "purchase_prices = result.select(\"country\",\"price_in_usd\")\n",
    "highest_income_country = purchase_prices.groupBy(\"country\").sum()\n",
    "highest_income_country = highest_income_country.select(\"country\",col(\"sum(price_in_usd)\").alias(\"country_total_sales\"))\n",
    "highest_income_country = highest_income_country.sort(desc(\"country_total_sales\"))\n",
    "highest_income_country.limit(1).show()"
   ]
  },
  {
   "cell_type": "markdown",
   "id": "2f15057a-50fd-4441-a3aa-5ee98af2b98b",
   "metadata": {},
   "source": [
    "# Part 2"
   ]
  },
  {
   "cell_type": "markdown",
   "id": "44f739d6-6452-4b72-a91a-26b84adc1923",
   "metadata": {},
   "source": [
    "## Group the movies based on genre and show the list of movies that their rating are higher than the average per category?"
   ]
  },
  {
   "cell_type": "code",
   "execution_count": 8,
   "id": "3a7f0819-14e7-4575-b49f-6d012eae9213",
   "metadata": {},
   "outputs": [],
   "source": [
    "movie = spark.read.csv('movie.csv', sep=',', inferSchema=True, header=True)\n",
    "rating = spark.read.csv('rating.csv', sep=',', inferSchema=True, header=True)"
   ]
  },
  {
   "cell_type": "code",
   "execution_count": 9,
   "id": "253a136c-b1da-421c-aae5-30938f117661",
   "metadata": {
    "scrolled": true
   },
   "outputs": [
    {
     "name": "stdout",
     "output_type": "stream",
     "text": [
      "+-------+--------------------+--------------------+------+------+-------------------+---------+---------+--------+--------+-------+-------+-------+-------+-------+\n",
      "|movieId|               title|              genres|userId|rating|          timestamp|    genre|  genre_1| genre_2| genre_3|genre_4|genre_5|genre_6|genre_7|genre_8|\n",
      "+-------+--------------------+--------------------+------+------+-------------------+---------+---------+--------+--------+-------+-------+-------+-------+-------+\n",
      "|      2|      Jumanji (1995)|Adventure|Childre...|     1|   3.5|2005-04-02 23:53:47|Adventure| Children| Fantasy|    null|   null|   null|   null|   null|   null|\n",
      "|     29|City of Lost Chil...|Adventure|Drama|F...|     1|   3.5|2005-04-02 23:31:16|Adventure|    Drama| Fantasy| Mystery| Sci-Fi|   null|   null|   null|   null|\n",
      "|     32|Twelve Monkeys (a...|Mystery|Sci-Fi|Th...|     1|   3.5|2005-04-02 23:33:39|  Mystery|   Sci-Fi|Thriller|    null|   null|   null|   null|   null|   null|\n",
      "|     47|Seven (a.k.a. Se7...|    Mystery|Thriller|     1|   3.5|2005-04-02 23:32:07|  Mystery| Thriller|    null|    null|   null|   null|   null|   null|   null|\n",
      "|     50|Usual Suspects, T...|Crime|Mystery|Thr...|     1|   3.5|2005-04-02 23:29:40|    Crime|  Mystery|Thriller|    null|   null|   null|   null|   null|   null|\n",
      "|    112|Rumble in the Bro...|Action|Adventure|...|     1|   3.5|2004-09-10 03:09:00|   Action|Adventure|  Comedy|   Crime|   null|   null|   null|   null|   null|\n",
      "|    151|      Rob Roy (1995)|Action|Drama|Roma...|     1|   4.0|2004-09-10 03:08:54|   Action|    Drama| Romance|     War|   null|   null|   null|   null|   null|\n",
      "|    223|       Clerks (1994)|              Comedy|     1|   4.0|2005-04-02 23:46:13|   Comedy|     null|    null|    null|   null|   null|   null|   null|   null|\n",
      "|    253|Interview with th...|        Drama|Horror|     1|   4.0|2005-04-02 23:35:40|    Drama|   Horror|    null|    null|   null|   null|   null|   null|   null|\n",
      "|    260|Star Wars: Episod...|Action|Adventure|...|     1|   4.0|2005-04-02 23:33:46|   Action|Adventure|  Sci-Fi|    null|   null|   null|   null|   null|   null|\n",
      "|    293|Léon: The Profess...|Action|Crime|Dram...|     1|   4.0|2005-04-02 23:31:43|   Action|    Crime|   Drama|Thriller|   null|   null|   null|   null|   null|\n",
      "|    296| Pulp Fiction (1994)|Comedy|Crime|Dram...|     1|   4.0|2005-04-02 23:32:47|   Comedy|    Crime|   Drama|Thriller|   null|   null|   null|   null|   null|\n",
      "|    318|Shawshank Redempt...|         Crime|Drama|     1|   4.0|2005-04-02 23:33:18|    Crime|    Drama|    null|    null|   null|   null|   null|   null|   null|\n",
      "|    337|What's Eating Gil...|               Drama|     1|   3.5|2004-09-10 03:08:29|    Drama|     null|    null|    null|   null|   null|   null|   null|   null|\n",
      "|    367|    Mask, The (1994)|Action|Comedy|Cri...|     1|   3.5|2005-04-02 23:53:00|   Action|   Comedy|   Crime| Fantasy|   null|   null|   null|   null|   null|\n",
      "|    541| Blade Runner (1982)|Action|Sci-Fi|Thr...|     1|   4.0|2005-04-02 23:30:03|   Action|   Sci-Fi|Thriller|    null|   null|   null|   null|   null|   null|\n",
      "|    589|Terminator 2: Jud...|       Action|Sci-Fi|     1|   3.5|2005-04-02 23:45:57|   Action|   Sci-Fi|    null|    null|   null|   null|   null|   null|   null|\n",
      "|    593|Silence of the La...|Crime|Horror|Thri...|     1|   3.5|2005-04-02 23:31:01|    Crime|   Horror|Thriller|    null|   null|   null|   null|   null|   null|\n",
      "|    653|  Dragonheart (1996)|Action|Adventure|...|     1|   3.0|2004-09-10 03:08:11|   Action|Adventure| Fantasy|    null|   null|   null|   null|   null|   null|\n",
      "|    919|Wizard of Oz, The...|Adventure|Childre...|     1|   3.5|2004-09-10 03:07:01|Adventure| Children| Fantasy| Musical|   null|   null|   null|   null|   null|\n",
      "+-------+--------------------+--------------------+------+------+-------------------+---------+---------+--------+--------+-------+-------+-------+-------+-------+\n",
      "only showing top 20 rows\n",
      "\n"
     ]
    }
   ],
   "source": [
    "master_frame = movie.join(rating, [\"movieId\"], \"inner\")\n",
    "#master_frame = master_frame.groupBy(\"country\").sum()\n",
    "master_frame_genre = master_frame.withColumn(\"genre\", split(master_frame[\"genres\"], \"\\|\").getItem(0))\\\n",
    "                                .withColumn(\"genre_1\", split(master_frame[\"genres\"], \"\\|\").getItem(1))\\\n",
    "                                .withColumn(\"genre_2\", split(master_frame[\"genres\"], \"\\|\").getItem(2))\\\n",
    "                                .withColumn(\"genre_3\", split(master_frame[\"genres\"], \"\\|\").getItem(3))\\\n",
    "                                .withColumn(\"genre_4\", split(master_frame[\"genres\"], \"\\|\").getItem(4))\\\n",
    "                                .withColumn(\"genre_5\", split(master_frame[\"genres\"], \"\\|\").getItem(5))\\\n",
    "                                .withColumn(\"genre_6\", split(master_frame[\"genres\"], \"\\|\").getItem(6))\\\n",
    "                                .withColumn(\"genre_7\", split(master_frame[\"genres\"], \"\\|\").getItem(7))\\\n",
    "                                .withColumn(\"genre_8\", split(master_frame[\"genres\"], \"\\|\").getItem(8))\n",
    "master_frame_genre.show()"
   ]
  },
  {
   "cell_type": "code",
   "execution_count": 10,
   "id": "08948278-6ccd-4076-95f9-ec32a493024f",
   "metadata": {
    "scrolled": true
   },
   "outputs": [
    {
     "name": "stdout",
     "output_type": "stream",
     "text": [
      "+-------+--------------------+------+------+-------------------+------------------+\n",
      "|movieId|               title|userId|rating|          timestamp|             genre|\n",
      "+-------+--------------------+------+------+-------------------+------------------+\n",
      "| 131262|    Innocence (2014)|133047|   4.0|2015-03-30 20:39:26|            Horror|\n",
      "| 131262|    Innocence (2014)|133047|   4.0|2015-03-30 20:39:26|         Adventure|\n",
      "| 131262|    Innocence (2014)|133047|   4.0|2015-03-30 20:39:26|           Fantasy|\n",
      "| 131260| Rentun Ruusu (2001)| 65409|   3.0|2015-03-30 19:57:46|(no genres listed)|\n",
      "| 131258|  The Pirates (2014)| 28906|   2.5|2015-03-30 19:56:32|         Adventure|\n",
      "| 131256|Feuer, Eis & Dose...| 79570|   4.0|2015-03-30 19:48:08|            Comedy|\n",
      "| 131254|Kein Bund für's L...| 79570|   4.0|2015-03-30 19:32:59|            Comedy|\n",
      "| 131252|Forklift Driver K...| 79570|   4.0|2015-03-30 19:20:55|            Horror|\n",
      "| 131252|Forklift Driver K...| 79570|   4.0|2015-03-30 19:20:55|            Comedy|\n",
      "| 131250|No More School (2...| 79570|   4.0|2015-03-30 19:16:42|            Comedy|\n",
      "| 131248|Brother Bear 2 (2...| 79570|   4.0|2015-03-30 19:04:48|          Children|\n",
      "| 131248|Brother Bear 2 (2...| 79570|   4.0|2015-03-30 19:04:48|         Animation|\n",
      "| 131248|Brother Bear 2 (2...| 79570|   4.0|2015-03-30 19:04:48|            Comedy|\n",
      "| 131248|Brother Bear 2 (2...| 79570|   4.0|2015-03-30 19:04:48|         Adventure|\n",
      "| 131248|Brother Bear 2 (2...| 79570|   4.0|2015-03-30 19:04:48|           Fantasy|\n",
      "| 131243|Werner - Gekotzt ...| 79570|   4.0|2015-03-30 18:17:10|         Animation|\n",
      "| 131243|Werner - Gekotzt ...| 79570|   4.0|2015-03-30 18:17:10|            Comedy|\n",
      "| 131241|Ants in the Pants...| 79570|   4.0|2015-03-30 18:12:10|           Romance|\n",
      "| 131241|Ants in the Pants...| 79570|   4.0|2015-03-30 18:12:10|            Comedy|\n",
      "| 131239|Three Quarter Moo...| 79570|   4.0|2015-03-30 18:03:09|             Drama|\n",
      "+-------+--------------------+------+------+-------------------+------------------+\n",
      "only showing top 20 rows\n",
      "\n"
     ]
    }
   ],
   "source": [
    "Movie_Genre = master_frame_genre.select(\"movieId\",\"title\",\"userId\",\"rating\",\"timestamp\",\"genre\")\n",
    "Movie_Genre = Movie_Genre.union(master_frame_genre.select(\"movieId\",\"title\",\"userId\",\"rating\",\"timestamp\",col(\"genre_1\").alias(\"genre\")))\n",
    "Movie_Genre = Movie_Genre.union(master_frame_genre.select(\"movieId\",\"title\",\"userId\",\"rating\",\"timestamp\",col(\"genre_2\").alias(\"genre\")))\n",
    "Movie_Genre = Movie_Genre.union(master_frame_genre.select(\"movieId\",\"title\",\"userId\",\"rating\",\"timestamp\",col(\"genre_3\").alias(\"genre\")))\n",
    "Movie_Genre = Movie_Genre.union(master_frame_genre.select(\"movieId\",\"title\",\"userId\",\"rating\",\"timestamp\",col(\"genre_4\").alias(\"genre\")))\n",
    "Movie_Genre = Movie_Genre.union(master_frame_genre.select(\"movieId\",\"title\",\"userId\",\"rating\",\"timestamp\",col(\"genre_5\").alias(\"genre\")))\n",
    "Movie_Genre = Movie_Genre.union(master_frame_genre.select(\"movieId\",\"title\",\"userId\",\"rating\",\"timestamp\",col(\"genre_6\").alias(\"genre\")))\n",
    "Movie_Genre = Movie_Genre.union(master_frame_genre.select(\"movieId\",\"title\",\"userId\",\"rating\",\"timestamp\",col(\"genre_7\").alias(\"genre\")))\n",
    "Movie_Genre = Movie_Genre.union(master_frame_genre.select(\"movieId\",\"title\",\"userId\",\"rating\",\"timestamp\",col(\"genre_8\").alias(\"genre\")))\n",
    "Movie_Genre = Movie_Genre.filter(col(\"genre\").isNotNull())\n",
    "Movie_Genre.sort(desc(\"movieId\")).show()"
   ]
  },
  {
   "cell_type": "code",
   "execution_count": 11,
   "id": "db5d277e-972e-4371-b403-c5c916159ae4",
   "metadata": {
    "scrolled": true
   },
   "outputs": [
    {
     "name": "stdout",
     "output_type": "stream",
     "text": [
      "+------------------+------------------+\n",
      "|             genre|        avg_rating|\n",
      "+------------------+------------------+\n",
      "|             Crime|3.6745276025631113|\n",
      "|           Romance| 3.541802581902903|\n",
      "|          Thriller|  3.50711121809216|\n",
      "|         Adventure|3.5018926565473865|\n",
      "|             Drama|3.6743003030009844|\n",
      "|               War|3.8095307347384844|\n",
      "|       Documentary|3.7397176834178865|\n",
      "|           Fantasy|3.5059453358738244|\n",
      "|           Mystery| 3.663508921312903|\n",
      "|           Musical|3.5582347604391567|\n",
      "|         Animation| 3.617498487465694|\n",
      "|         Film-Noir|  3.96538126070082|\n",
      "|(no genres listed)|3.0069252077562325|\n",
      "|              IMAX| 3.655945983272606|\n",
      "|            Horror|3.2772238097518307|\n",
      "|           Western| 3.570710170932099|\n",
      "|            Comedy|3.4260113054324886|\n",
      "|          Children|3.4081137685270444|\n",
      "|            Action|3.4438645064783917|\n",
      "|            Sci-Fi|3.4367739795278616|\n",
      "+------------------+------------------+\n",
      "\n"
     ]
    }
   ],
   "source": [
    "Genre_Rating = Movie_Genre.select(\"genre\",\"rating\")\n",
    "Avg_Genre_Rating = Genre_Rating.groupBy(\"genre\").avg()\n",
    "Avg_Genre_Rating = Avg_Genre_Rating.select(\"genre\",col(\"avg(rating)\").alias(\"avg_rating\"))\n",
    "Avg_Genre_Rating.show()"
   ]
  },
  {
   "cell_type": "code",
   "execution_count": 12,
   "id": "3c434aef-8919-4e92-8bbb-3dc4141c7743",
   "metadata": {},
   "outputs": [],
   "source": [
    "Avg_Genre_Rating.createTempView(\"Avg_Genre_Rating\")\n",
    "Movie_Genre.createTempView(\"Movie_Genre\")"
   ]
  },
  {
   "cell_type": "code",
   "execution_count": 13,
   "id": "da277883-4715-4e60-a945-f57b1f206bdc",
   "metadata": {},
   "outputs": [],
   "source": [
    "Movie_Genre_Better_AVG = spark.sql(\"\"\" SELECT * FROM Avg_Genre_Rating INNER JOIN Movie_Genre ON Avg_Genre_Rating.genre = Movie_Genre.genre \n",
    "Where rating>=avg_rating\"\"\")"
   ]
  },
  {
   "cell_type": "code",
   "execution_count": 14,
   "id": "ffda11f1-393e-4fbd-984f-59ac216bb539",
   "metadata": {},
   "outputs": [],
   "source": [
    "user = \"\"  #your database username\n",
    "password = \"\" #your database password\n",
    "Movie_Genre_Better_AVG.write.format(\"jdbc\") \\\n",
    "  .mode(\"overwrite\") \\\n",
    "  .option(\"url\", jdbcUrl) \\\n",
    "  .option(\"dbtable\", \"Movie.Movie_Genre\") \\\n",
    "  .option(\"user\", user) \\\n",
    "  .option(\"password\", password) \\\n",
    "  .save()"
   ]
  }
 ],
 "metadata": {
  "kernelspec": {
   "display_name": "Python 3 (ipykernel)",
   "language": "python",
   "name": "python3"
  },
  "language_info": {
   "codemirror_mode": {
    "name": "ipython",
    "version": 3
   },
   "file_extension": ".py",
   "mimetype": "text/x-python",
   "name": "python",
   "nbconvert_exporter": "python",
   "pygments_lexer": "ipython3",
   "version": "3.8.18"
  }
 },
 "nbformat": 4,
 "nbformat_minor": 5
}
